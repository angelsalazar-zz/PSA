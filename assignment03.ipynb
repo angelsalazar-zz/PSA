{
  "nbformat": 4,
  "nbformat_minor": 0,
  "metadata": {
    "colab": {
      "name": "assignment03.ipynb",
      "provenance": []
    },
    "kernelspec": {
      "name": "python3",
      "display_name": "Python 3"
    }
  },
  "cells": [
    {
      "source": [
        "# Problem Formulation\n",
        "\n",
        "## State Description\n",
        "\n",
        "An environment dependent on it's own size where only one action is relevant: to clean out the grid so that every tile is 'off'. In order to do this, the program goes through every single tile and decides which tiles to turn according to a set pattern described in the transition model. \n",
        "\n",
        "\n",
        "Board size NxN\n",
        "Cleaner \n",
        "\n",
        "## Inital State\n",
        "\n",
        "Board(SIZE)\n",
        "\n",
        "## Actions\n",
        "\n",
        "* TAB\n",
        "\n",
        "## Transition model\n",
        "\n",
        "| Operator | Pre-conditions | Changes |\n",
        "| -------- | -------------- | ------- |\n",
        "| `tab(row, col)` | (row - 1, col) == true OR <br> (row, col - 1) == true OR <br> (row, col + 1) == true OR <br> (row + 1, col) == true | toggle value at (row - 1, col) AND <br> toggle value at (row, col - 1) AND <br> toggle value at (row, col + 1) AND <br> toggle value at (row + 1, col) |\n",
        "\n",
        "## Goal State\n",
        "\n",
        "```\n",
        "sub allCellsAreEmpty(board)\n",
        "\tfor row in board\n",
        "\t\tfor cell in row\n",
        "\t\t\tif cell is true\n",
        "\t\t\t\treturn false\n",
        "\treturn true\n",
        "```\n",
        "\n",
        "# Path Cost\n",
        "\n",
        "Because of the nature of the problem, the only measurable action is 'Tab'; this means that there will be a counter that will go up 1 point for everytime it turns a tile within the grid. There will be no counter for the amount of movements the program does when viewing the grid.\n",
        "\n",
        "* TAB = +1"
      ],
      "cell_type": "markdown",
      "metadata": {}
    },
    {
      "source": [
        "# Could they solve all or some problems? \n",
        "\n",
        "\n",
        "\n",
        "# How efficient were they? \n",
        "\n",
        "\n",
        "\n",
        "# Was it difficult to program the PSA? \n",
        "\n",
        "\n",
        "\n",
        "# What was the most difficult? \n",
        "\n",
        "\n",
        "\n",
        "# Also, which algorithm seems to be the best for the selected problems? And which methods found the best solutions?"
      ],
      "cell_type": "markdown",
      "metadata": {}
    }
  ]
}