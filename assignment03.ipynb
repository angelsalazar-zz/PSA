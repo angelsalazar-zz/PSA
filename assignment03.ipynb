{
  "nbformat": 4,
  "nbformat_minor": 0,
  "metadata": {
    "colab": {
      "name": "assignment03.ipynb",
      "provenance": []
    },
    "kernelspec": {
      "name": "python3",
      "display_name": "Python 3"
    }
  },
  "cells": [
    {
      "source": [
        "# Problem Formulation\n",
        "\n",
        "## State Description\n",
        "\n",
        "Board size NxN\n",
        "Cleaner \n",
        "\n",
        "## Inital State\n",
        "\n",
        "Board(SIZE)\n",
        "\n",
        "## Actions\n",
        "\n",
        "* TAB\n",
        "\n",
        "## Transition model\n",
        "\n",
        "| Operator | Pre-conditions | Changes |\n",
        "| -------- | -------------- | ------- |\n",
        "| `tab(row, col)` | (row - 1, col) == true OR <br> (row, col - 1) == true OR <br> (row, col + 1) == true OR <br> (row + 1, col) == true | toggle value at (row - 1, col) AND <br> toggle value at (row, col - 1) AND <br> toggle value at (row, col + 1) AND <br> toggle value at (row + 1, col) |\n",
        "\n",
        "## Goal State\n",
        "\n",
        "```\n",
        "sub allCellsAreEmpty(board)\n",
        "\tfor row in board\n",
        "\t\tfor cell in row\n",
        "\t\t\tif cell is true\n",
        "\t\t\t\treturn false\n",
        "\treturn true\n",
        "```\n",
        "\n",
        "# Path Coast\n",
        "\n",
        "* TAB = +1"
      ],
      "cell_type": "markdown",
      "metadata": {}
    },
    {
      "cell_type": "code",
      "execution_count": 4,
      "metadata": {
        "tags": []
      },
      "outputs": [
        {
          "output_type": "stream",
          "name": "stdout",
          "text": "--- 0.0001087188720703125 seconds ---\n"
        }
      ],
      "source": [
        "print(\"--- %s seconds ---\" % (time.time() - start_time))"
      ]
    }
  ]
}